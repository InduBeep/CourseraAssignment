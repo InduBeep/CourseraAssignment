{
 "cells": [
  {
   "cell_type": "code",
   "execution_count": null,
   "id": "bf7a6cc6-c282-4428-b9f1-ef61d2e4a054",
   "metadata": {},
   "outputs": [],
   "source": []
  },
  {
   "cell_type": "markdown",
   "id": "48dd7795-4f2c-45e9-bc60-df37f7bf9f54",
   "metadata": {},
   "source": [
    "# Data Science Tools and Ecosystem"
   ]
  },
  {
   "cell_type": "markdown",
   "id": "033faa16-c9de-4909-9294-ba4e6193fc4f",
   "metadata": {},
   "source": [
    "**Objectives:**\n",
    "- List popular data science libraries\n",
    "- Learn about data science languages\n",
    "- Learn basics of RStudio and GitHub\n",
    "- Learn about APIs"
   ]
  },
  {
   "cell_type": "markdown",
   "id": "acece41f-ad7b-434f-8724-5a31f6f78830",
   "metadata": {},
   "source": [
    "In this notebook, data science tools and ecosystem are summarised."
   ]
  },
  {
   "cell_type": "markdown",
   "id": "dda9d222-0006-4da2-adae-c020a64d044d",
   "metadata": {},
   "source": [
    "Some of the popular languages data scientists use are:\n",
    "1. Python\n",
    "2. SQL\n",
    "3. R"
   ]
  },
  {
   "cell_type": "markdown",
   "id": "b201fc34-3b0d-4f1f-b859-9ff3b41fd08e",
   "metadata": {},
   "source": [
    "Some of the commonly used libraries used by Data Scientists include:\n",
    "\n",
    "1. NumPy  \n",
    "2. Pandas  \n",
    "3. Matplotlib  \n",
    "4. Scikit-learn  \n",
    "5. TensorFlow"
   ]
  },
  {
   "cell_type": "markdown",
   "id": "021ff550-35a9-40f0-9f0b-4e555748ac84",
   "metadata": {},
   "source": [
    "| # Data Science Tools |\n",
    "|----------------------|\n",
    "| Jupyter Notebook     |\n",
    "| RStudio              |\n",
    "| Apache Zeppelin      | \n"
   ]
  },
  {
   "cell_type": "markdown",
   "id": "68b79fe0-0073-4a9f-99c0-dff3bb042c40",
   "metadata": {},
   "source": [
    "### Below are a few examples of evaluating arithmetic expressions in Python"
   ]
  },
  {
   "cell_type": "code",
   "execution_count": 5,
   "id": "b0dc9966-d511-44b0-8f84-a3e6a7b2635b",
   "metadata": {},
   "outputs": [
    {
     "name": "stdout",
     "output_type": "stream",
     "text": [
      "17\n"
     ]
    }
   ],
   "source": [
    "x = 3\n",
    "y = 4\n",
    "z = 5\n",
    "a = x*y+5\n",
    "print (a)\n",
    "\n",
    "## This a simple arithmetic expression to multiply then add integers ##"
   ]
  },
  {
   "cell_type": "code",
   "execution_count": 7,
   "id": "f77cf418-d4cf-4640-99c0-d3a72efc9004",
   "metadata": {},
   "outputs": [
    {
     "name": "stdout",
     "output_type": "stream",
     "text": [
      "200 minutes into hours is 3.3333333333333335 hours\n"
     ]
    }
   ],
   "source": [
    "x = 200\n",
    "y = 60\n",
    "z = x/y\n",
    "print (\"200 minutes into hours is\",z,\"hours\")\n",
    "\n",
    "## This will convert 200 minutes to hours by dividing by 60 ##"
   ]
  },
  {
   "cell_type": "markdown",
   "id": "c52233fb-c996-429d-8759-56074c7f48c6",
   "metadata": {},
   "source": [
    "## Author\n",
    "Indrayani Dey."
   ]
  }
 ],
 "metadata": {
  "kernelspec": {
   "display_name": "Python 3 (ipykernel)",
   "language": "python",
   "name": "python3"
  },
  "language_info": {
   "codemirror_mode": {
    "name": "ipython",
    "version": 3
   },
   "file_extension": ".py",
   "mimetype": "text/x-python",
   "name": "python",
   "nbconvert_exporter": "python",
   "pygments_lexer": "ipython3",
   "version": "3.12.8"
  }
 },
 "nbformat": 4,
 "nbformat_minor": 5
}
